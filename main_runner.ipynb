{
 "cells": [
  {
   "cell_type": "code",
   "execution_count": 2,
   "metadata": {},
   "outputs": [],
   "source": [
    "from IPython.display import Image\n",
    "\n",
    "import numpy as np\n",
    "import pandas as pd\n",
    "import matplotlib.pyplot as plt\n",
    "import plotly\n",
    "import cassiopeia as cas\n",
    "from cassiopeia.tools import fitch_hartigan, fitch_count\n",
    "import networkx as nx\n",
    "import seaborn as sns\n",
    "from sklearn.metrics import mean_squared_error,mean_absolute_error\n",
    "from enumeration import fitch_hartigan_enumeration, fitch_hartigan_print\n",
    "from build_matrices import build_matrices, build_matrices_restricted, build_matrices_sankoff"
   ]
  },
  {
   "cell_type": "code",
   "execution_count": 3,
   "metadata": {},
   "outputs": [],
   "source": [
    "tm = [None] * 101\n",
    "rtm = [None] * 101\n",
    "stm = [None] * 101\n",
    "fc = [None] * 101"
   ]
  },
  {
   "cell_type": "code",
   "execution_count": 4,
   "metadata": {},
   "outputs": [],
   "source": [
    "def show_plots(tm,fc,num):\n",
    "    tm = tm[num]\n",
    "    fc = fc[num]\n",
    "    mask = np.zeros_like(tm)\n",
    "    np.fill_diagonal(mask, 1)\n",
    "    fig, axarr = plt.subplots(nrows = 1, ncols=2, figsize = (6, 3))\n",
    "    sns.heatmap(tm,square=True,mask=mask,ax=axarr[0],cmap=\"Reds\", vmin = 0, vmax=1.0).set_facecolor('#bfbfbf')\n",
    "    sns.heatmap(fc,square=True,mask=mask,ax=axarr[1],cmap=\"Reds\", vmin = 0, vmax=1.0).set_facecolor('#bfbfbf')\n",
    "    axarr[0].set_title('CP0{} Co-migration F-H'.format(num))\n",
    "    axarr[1].set_title('CP0{} FitchCount'.format(num))\n",
    "    plt.tight_layout()\n",
    "    plt.show()\n",
    "def show_4_plots(tm,rtm,stm,fc,num):\n",
    "    tm = tm[num] \n",
    "    rtm = rtm[num] \n",
    "    stm = stm[num] \n",
    "    fc = fc[num] \n",
    "    mask = np.zeros_like(fc)\n",
    "    np.fill_diagonal(mask, 1)\n",
    "    print(\"Co-migration F-H vs FitchCount mse:\",mean_squared_error(tm,fc),\"\\nRestricted F-H vs FitcCount mse:\",mean_squared_error(rtm,fc),\"\\nSankoff vs FitchCount mse:\",mean_squared_error(stm,fc))\n",
    "    print(\"Co-migration F-H vs FitchCount mae:\",mean_absolute_error(tm,fc),\"\\nRestricted F-H vs FitcCount mae:\",mean_absolute_error(rtm,fc),\"\\nSankoff vs FitchCount mae:\",mean_absolute_error(stm,fc))\n",
    "    fig, axarr = plt.subplots(nrows = 1, ncols=4, figsize = (12, 3))\n",
    "    sns.heatmap(tm,square=True,mask=mask,ax=axarr[0],cmap=\"Reds\", vmin = 0, vmax=1.0).set_facecolor('#bfbfbf')\n",
    "    sns.heatmap(rtm,square=True,mask=mask,ax=axarr[1],cmap=\"Reds\", vmin = 0, vmax=1.0).set_facecolor('#bfbfbf')\n",
    "    sns.heatmap(stm,square=True,mask=mask,ax=axarr[2],cmap=\"Reds\", vmin = 0, vmax=1.0).set_facecolor('#bfbfbf')\n",
    "    sns.heatmap(fc,square=True,mask=mask,ax=axarr[3],cmap=\"Reds\", vmin = 0, vmax=1.0).set_facecolor('#bfbfbf')\n",
    "    axarr[0].set_title('CP0{} Co-migration F-H'.format(num))\n",
    "    axarr[1].set_title('CP0{} Restricted F-H'.format(num))\n",
    "    axarr[2].set_title('CP0{} Sankoff'.format(num))\n",
    "    axarr[3].set_title('CP0{} FitchCount'.format(num))\n",
    "    plt.tight_layout()\n",
    "    plt.show()\n",
    "def show_3_plots(tm,rtm,fc,num):\n",
    "    tm = tm[num] \n",
    "    rtm = rtm[num] \n",
    "    fc = fc[num] \n",
    "    mask = np.zeros_like(fc)\n",
    "    np.fill_diagonal(mask, 1)\n",
    "    print(\"Co-migration F-H vs FitchCount mse:\",mean_squared_error(tm,fc),\"\\nRestricted F-H vs FitcCount mse:\",mean_squared_error(rtm,fc))\n",
    "    print(\"Co-migration F-H vs FitchCount mae:\",mean_absolute_error(tm,fc),\"\\nRestricted F-H vs FitcCount mae:\",mean_absolute_error(rtm,fc))\n",
    "    fig, axarr = plt.subplots(nrows = 1, ncols=3, figsize = (9, 3))\n",
    "    sns.heatmap(tm,square=True,mask=mask,ax=axarr[0],cmap=\"Reds\", vmin = 0, vmax=1.0).set_facecolor('#bfbfbf')\n",
    "    sns.heatmap(rtm,square=True,mask=mask,ax=axarr[1],cmap=\"Reds\", vmin = 0, vmax=1.0).set_facecolor('#bfbfbf')\n",
    "    sns.heatmap(fc,square=True,mask=mask,ax=axarr[2],cmap=\"Reds\", vmin = 0, vmax=1.0).set_facecolor('#bfbfbf')\n",
    "    axarr[0].set_title('CP0{} Co-migration F-H'.format(num))\n",
    "    axarr[1].set_title('CP0{} Restricted F-H'.format(num))\n",
    "    axarr[2].set_title('CP0{} FitchCount'.format(num))\n",
    "    plt.tight_layout()\n",
    "    plt.show()"
   ]
  },
  {
   "cell_type": "code",
   "execution_count": 5,
   "metadata": {},
   "outputs": [
    {
     "name": "stdout",
     "output_type": "stream",
     "text": [
      "/home/chunke/cs598MEB/trees/m5k_lg70_tree_hybrid_priors.alleleThresh.processed.txt\n",
      "directory already exists\n",
      "beginning enumeration\n",
      "Number of trees: 6\n",
      "Min comigrations: 5\n",
      "Number of trees that obey min comigrations 2\n",
      "raw Fitch-Hartigan enumeration transition matrix\n",
      "      LL   RE   RW   M1   M2  Liv\n",
      "LL   0.0  3.0  3.0  4.0  0.0  2.0\n",
      "RE   0.0  0.0  1.0  0.0  0.0  0.0\n",
      "RW   0.0  1.0  0.0  0.0  0.0  0.0\n",
      "M1   0.0  0.0  0.0  0.0  0.0  0.0\n",
      "M2   0.0  0.0  0.0  0.0  0.0  0.0\n",
      "Liv  0.0  0.0  0.0  0.0  0.0  0.0\n",
      "raw FitchCount transition matrix\n",
      "      LL   RE   RW    M1   M2  Liv\n",
      "LL   0.0  7.0  7.0  12.0  0.0  2.0\n",
      "RE   1.0  0.0  3.0   0.0  0.0  1.0\n",
      "RW   1.0  3.0  0.0   0.0  0.0  1.0\n",
      "M1   0.0  0.0  0.0   0.0  0.0  0.0\n",
      "M2   0.0  0.0  0.0   0.0  0.0  0.0\n",
      "Liv  2.0  1.0  1.0   0.0  0.0  0.0\n",
      "normalized Fitch-Hartigan enumeration transition matrix\n",
      "      LL    RE    RW        M1   M2       Liv\n",
      "LL   0.0  0.25  0.25  0.333333  0.0  0.166667\n",
      "RE   0.0  0.00  1.00  0.000000  0.0  0.000000\n",
      "RW   0.0  1.00  0.00  0.000000  0.0  0.000000\n",
      "M1   0.0  0.00  0.00  0.000000  0.0  0.000000\n",
      "M2   0.0  0.00  0.00  0.000000  0.0  0.000000\n",
      "Liv  0.0  0.00  0.00  0.000000  0.0  0.000000\n",
      "normalized FitchCount transition matrix\n",
      "      LL    RE    RW        M1   M2       Liv\n",
      "LL   0.0  0.25  0.25  0.428571  0.0  0.071429\n",
      "RE   0.2  0.00  0.60  0.000000  0.0  0.200000\n",
      "RW   0.2  0.60  0.00  0.000000  0.0  0.200000\n",
      "M1   0.0  0.00  0.00  0.000000  0.0  0.000000\n",
      "M2   0.0  0.00  0.00  0.000000  0.0  0.000000\n",
      "Liv  0.5  0.25  0.25  0.000000  0.0  0.000000\n",
      "beginning writing to files\n"
     ]
    }
   ],
   "source": [
    "tm[70],fc[70] = build_matrices(70) # 8kb"
   ]
  },
  {
   "cell_type": "code",
   "execution_count": 6,
   "metadata": {},
   "outputs": [
    {
     "name": "stdout",
     "output_type": "stream",
     "text": [
      "/home/chunke/cs598MEB/trees/m5k_lg70_tree_hybrid_priors.alleleThresh.processed.txt\n",
      "directory already exists\n",
      "beginning enumeration\n",
      "Number of trees: 2\n",
      "Min comigrations: 5\n",
      "Number of trees that obey min comigrations 2\n",
      "raw restricted Fitch-Hartigan enumeration transition matrix\n",
      "      LL   RE   RW   M1   M2  Liv\n",
      "LL   0.0  3.0  3.0  4.0  0.0  2.0\n",
      "RE   0.0  0.0  1.0  0.0  0.0  0.0\n",
      "RW   0.0  1.0  0.0  0.0  0.0  0.0\n",
      "M1   0.0  0.0  0.0  0.0  0.0  0.0\n",
      "M2   0.0  0.0  0.0  0.0  0.0  0.0\n",
      "Liv  0.0  0.0  0.0  0.0  0.0  0.0\n",
      "normalized restricted Fitch-Hartigan enumeration transition matrix\n",
      "      LL    RE    RW        M1   M2       Liv\n",
      "LL   0.0  0.25  0.25  0.333333  0.0  0.166667\n",
      "RE   0.0  0.00  1.00  0.000000  0.0  0.000000\n",
      "RW   0.0  1.00  0.00  0.000000  0.0  0.000000\n",
      "M1   0.0  0.00  0.00  0.000000  0.0  0.000000\n",
      "M2   0.0  0.00  0.00  0.000000  0.0  0.000000\n",
      "Liv  0.0  0.00  0.00  0.000000  0.0  0.000000\n",
      "beginning writing to files\n"
     ]
    }
   ],
   "source": [
    "rtm[70] = build_matrices_restricted(70) # 8kb"
   ]
  },
  {
   "cell_type": "code",
   "execution_count": 7,
   "metadata": {},
   "outputs": [
    {
     "name": "stdout",
     "output_type": "stream",
     "text": [
      "/home/chunke/cs598MEB/trees/m5k_lg70_tree_hybrid_priors.alleleThresh.processed.txt\n",
      "directory already exists\n",
      "beginning enumeration\n",
      "Number of trees: 990\n",
      "Min comigrations: 4\n",
      "Number of trees that obey min comigrations 540\n",
      "raw Sankoff enumeration transition matrix\n",
      "      LL      RE      RW      M1   M2    Liv\n",
      "LL   0.0  1080.0  1080.0  1080.0  0.0  540.0\n",
      "RE   0.0     0.0     0.0     0.0  0.0    0.0\n",
      "RW   0.0     0.0     0.0     0.0  0.0    0.0\n",
      "M1   0.0     0.0     0.0     0.0  0.0    0.0\n",
      "M2   0.0     0.0     0.0     0.0  0.0    0.0\n",
      "Liv  0.0     0.0     0.0     0.0  0.0    0.0\n",
      "normalized Sankoff enumeration transition matrix\n",
      "      LL        RE        RW        M1   M2       Liv\n",
      "LL   0.0  0.285714  0.285714  0.285714  0.0  0.142857\n",
      "RE   0.0  0.000000  0.000000  0.000000  0.0  0.000000\n",
      "RW   0.0  0.000000  0.000000  0.000000  0.0  0.000000\n",
      "M1   0.0  0.000000  0.000000  0.000000  0.0  0.000000\n",
      "M2   0.0  0.000000  0.000000  0.000000  0.0  0.000000\n",
      "Liv  0.0  0.000000  0.000000  0.000000  0.0  0.000000\n",
      "beginning writing to files\n"
     ]
    }
   ],
   "source": [
    "stm[70] = build_matrices_sankoff(70) # 8kb"
   ]
  },
  {
   "cell_type": "code",
   "execution_count": 8,
   "metadata": {},
   "outputs": [
    {
     "name": "stdout",
     "output_type": "stream",
     "text": [
      "Co-migration F-H vs FitchCount mse: 0.024253905265810033 \n",
      "Restricted F-H vs FitcCount mse: 0.024253905265810033 \n",
      "Sankoff vs FitchCount mse: 0.035640589569160996\n",
      "Co-migration F-H vs FitchCount mae: 0.0775132275132275 \n",
      "Restricted F-H vs FitcCount mae: 0.0775132275132275 \n",
      "Sankoff vs FitchCount mae: 0.09126984126984128\n"
     ]
    },
    {
     "data": {
      "image/png": "[encoded data removed]",
      "text/plain": [
       "<Figure size 1200x300 with 8 Axes>"
      ]
     },
     "metadata": {},
     "output_type": "display_data"
    }
   ],
   "source": [
    "show_4_plots(tm,rtm,stm,fc,70)"
   ]
  },
  {
   "cell_type": "code",
   "execution_count": 9,
   "metadata": {},
   "outputs": [
    {
     "name": "stdout",
     "output_type": "stream",
     "text": [
      "/home/chunke/cs598MEB/trees/m5k_lg64_tree_hybrid_priors.alleleThresh.processed.txt\n",
      "directory already exists\n",
      "beginning enumeration\n",
      "Number of trees: 8\n",
      "Min comigrations: 9\n",
      "Number of trees that obey min comigrations 2\n",
      "raw Fitch-Hartigan enumeration transition matrix\n",
      "      LL   RE   RW   M1   M2  Liv\n",
      "LL   0.0  0.0  0.0  0.0  0.0  0.0\n",
      "RE   0.0  0.0  1.0  0.0  0.0  4.0\n",
      "RW   0.0  1.0  0.0  0.0  0.0  0.0\n",
      "M1   2.0  6.0  0.0  0.0  6.0  0.0\n",
      "M2   2.0  5.0  3.0  4.0  0.0  0.0\n",
      "Liv  0.0  0.0  0.0  0.0  0.0  0.0\n",
      "raw FitchCount transition matrix\n",
      "      LL    RE    RW    M1    M2  Liv\n",
      "LL   0.0   0.0   0.0   0.0   0.0  0.0\n",
      "RE   0.0   0.0   4.0   0.0   0.0  8.0\n",
      "RW   0.0   4.0   0.0   0.0   0.0  0.0\n",
      "M1   8.0  20.0   0.0   0.0  24.0  4.0\n",
      "M2   8.0  16.0  12.0  16.0   0.0  4.0\n",
      "Liv  0.0   8.0   0.0   0.0   0.0  0.0\n",
      "normalized Fitch-Hartigan enumeration transition matrix\n",
      "           LL        RE        RW        M1        M2  Liv\n",
      "LL   0.000000  0.000000  0.000000  0.000000  0.000000  0.0\n",
      "RE   0.000000  0.000000  0.200000  0.000000  0.000000  0.8\n",
      "RW   0.000000  1.000000  0.000000  0.000000  0.000000  0.0\n",
      "M1   0.142857  0.428571  0.000000  0.000000  0.428571  0.0\n",
      "M2   0.142857  0.357143  0.214286  0.285714  0.000000  0.0\n",
      "Liv  0.000000  0.000000  0.000000  0.000000  0.000000  0.0\n",
      "normalized FitchCount transition matrix\n",
      "           LL        RE        RW        M1        M2       Liv\n",
      "LL   0.000000  0.000000  0.000000  0.000000  0.000000  0.000000\n",
      "RE   0.000000  0.000000  0.333333  0.000000  0.000000  0.666667\n",
      "RW   0.000000  1.000000  0.000000  0.000000  0.000000  0.000000\n",
      "M1   0.142857  0.357143  0.000000  0.000000  0.428571  0.071429\n",
      "M2   0.142857  0.285714  0.214286  0.285714  0.000000  0.071429\n",
      "Liv  0.000000  1.000000  0.000000  0.000000  0.000000  0.000000\n",
      "beginning writing to files\n"
     ]
    }
   ],
   "source": [
    "tm[64],fc[64] = build_matrices(64) # 12kb"
   ]
  },
  {
   "cell_type": "code",
   "execution_count": 10,
   "metadata": {},
   "outputs": [
    {
     "name": "stdout",
     "output_type": "stream",
     "text": [
      "/home/chunke/cs598MEB/trees/m5k_lg64_tree_hybrid_priors.alleleThresh.processed.txt\n",
      "directory already exists\n",
      "beginning enumeration\n"
     ]
    },
    {
     "name": "stdout",
     "output_type": "stream",
     "text": [
      "Number of trees: 48\n",
      "Min comigrations: 10\n",
      "Number of trees that obey min comigrations 2\n",
      "raw restricted Fitch-Hartigan enumeration transition matrix\n",
      "      LL   RE   RW   M1   M2  Liv\n",
      "LL   0.0  0.0  0.0  6.0  6.0  0.0\n",
      "RE   0.0  0.0  1.0  0.0  0.0  4.0\n",
      "RW   0.0  1.0  0.0  0.0  0.0  0.0\n",
      "M1   2.0  6.0  0.0  0.0  0.0  0.0\n",
      "M2   2.0  5.0  3.0  6.0  0.0  0.0\n",
      "Liv  0.0  0.0  0.0  0.0  0.0  0.0\n",
      "normalized restricted Fitch-Hartigan enumeration transition matrix\n",
      "        LL      RE      RW     M1   M2  Liv\n",
      "LL   0.000  0.0000  0.0000  0.500  0.5  0.0\n",
      "RE   0.000  0.0000  0.2000  0.000  0.0  0.8\n",
      "RW   0.000  1.0000  0.0000  0.000  0.0  0.0\n",
      "M1   0.250  0.7500  0.0000  0.000  0.0  0.0\n",
      "M2   0.125  0.3125  0.1875  0.375  0.0  0.0\n",
      "Liv  0.000  0.0000  0.0000  0.000  0.0  0.0\n",
      "beginning writing to files\n"
     ]
    }
   ],
   "source": [
    "rtm[64] = build_matrices_restricted(64) # 8kb"
   ]
  },
  {
   "cell_type": "code",
   "execution_count": 11,
   "metadata": {},
   "outputs": [
    {
     "name": "stdout",
     "output_type": "stream",
     "text": [
      "Co-migration F-H vs FitchCount mse: 0.029332325522801714 \n",
      "Restricted F-H vs FitcCount mse: 0.052915977733686066\n",
      "Co-migration F-H vs FitchCount mae: 0.04312169312169312 \n",
      "Restricted F-H vs FitcCount mae: 0.09718915343915346\n"
     ]
    },
    {
     "data": {
      "image/png": "[encoded data removed]",
      "text/plain": [
       "<Figure size 900x300 with 6 Axes>"
      ]
     },
     "metadata": {},
     "output_type": "display_data"
    }
   ],
   "source": [
    "show_3_plots(tm,rtm,fc,64)"
   ]
  },
  {
   "cell_type": "code",
   "execution_count": 12,
   "metadata": {},
   "outputs": [
    {
     "name": "stdout",
     "output_type": "stream",
     "text": [
      "/home/chunke/cs598MEB/trees/m5k_lg43_tree_hybrid_priors.alleleThresh.processed.txt\n",
      "directory already exists\n",
      "beginning enumeration\n",
      "Number of trees: 8\n",
      "Min comigrations: 10\n",
      "Number of trees that obey min comigrations 2\n",
      "raw Fitch-Hartigan enumeration transition matrix\n",
      "      LL   RE   RW   M1    M2  Liv\n",
      "LL   0.0  0.0  1.0  2.0   1.0  0.0\n",
      "RE   0.0  0.0  0.0  0.0   0.0  0.0\n",
      "RW   0.0  0.0  0.0  0.0   2.0  2.0\n",
      "M1   4.0  4.0  7.0  0.0  13.0  4.0\n",
      "M2   0.0  0.0  2.0  2.0   0.0  0.0\n",
      "Liv  0.0  0.0  0.0  0.0   0.0  0.0\n",
      "raw FitchCount transition matrix\n",
      "       LL    RE    RW   M1    M2   Liv\n",
      "LL    0.0   0.0   4.0  8.0   4.0   0.0\n",
      "RE    0.0   0.0   0.0  0.0   0.0   0.0\n",
      "RW    0.0   0.0   0.0  0.0   6.0   4.0\n",
      "M1   16.0  16.0  26.0  0.0  52.0  18.0\n",
      "M2    0.0   0.0   6.0  8.0   0.0   2.0\n",
      "Liv   0.0   0.0   4.0  0.0   2.0   0.0\n",
      "normalized Fitch-Hartigan enumeration transition matrix\n",
      "        LL     RE       RW   M1       M2    Liv\n",
      "LL   0.000  0.000  0.25000  0.5  0.25000  0.000\n",
      "RE   0.000  0.000  0.00000  0.0  0.00000  0.000\n",
      "RW   0.000  0.000  0.00000  0.0  0.50000  0.500\n",
      "M1   0.125  0.125  0.21875  0.0  0.40625  0.125\n",
      "M2   0.000  0.000  0.50000  0.5  0.00000  0.000\n",
      "Liv  0.000  0.000  0.00000  0.0  0.00000  0.000\n",
      "normalized FitchCount transition matrix\n",
      "        LL     RE        RW   M1        M2       Liv\n",
      "LL   0.000  0.000  0.250000  0.5  0.250000  0.000000\n",
      "RE   0.000  0.000  0.000000  0.0  0.000000  0.000000\n",
      "RW   0.000  0.000  0.000000  0.0  0.600000  0.400000\n",
      "M1   0.125  0.125  0.203125  0.0  0.406250  0.140625\n",
      "M2   0.000  0.000  0.375000  0.5  0.000000  0.125000\n",
      "Liv  0.000  0.000  0.666667  0.0  0.333333  0.000000\n",
      "beginning writing to files\n"
     ]
    }
   ],
   "source": [
    "tm[43],fc[43] = build_matrices(43) # 30 kb"
   ]
  },
  {
   "cell_type": "code",
   "execution_count": 13,
   "metadata": {},
   "outputs": [
    {
     "name": "stdout",
     "output_type": "stream",
     "text": [
      "/home/chunke/cs598MEB/trees/m5k_lg43_tree_hybrid_priors.alleleThresh.processed.txt\n",
      "directory already exists\n",
      "beginning enumeration\n",
      "Number of trees: 8\n",
      "Min comigrations: 10\n",
      "Number of trees that obey min comigrations 1\n",
      "raw restricted Fitch-Hartigan enumeration transition matrix\n",
      "      LL   RE   RW   M1   M2  Liv\n",
      "LL   0.0  0.0  2.0  7.0  0.0  0.0\n",
      "RE   0.0  0.0  0.0  0.0  0.0  0.0\n",
      "RW   0.0  0.0  0.0  0.0  2.0  1.0\n",
      "M1   1.0  2.0  3.0  0.0  6.0  2.0\n",
      "M2   0.0  0.0  0.0  1.0  0.0  0.0\n",
      "Liv  0.0  0.0  0.0  0.0  0.0  0.0\n",
      "normalized restricted Fitch-Hartigan enumeration transition matrix\n",
      "           LL        RE        RW        M1        M2       Liv\n",
      "LL   0.000000  0.000000  0.222222  0.777778  0.000000  0.000000\n",
      "RE   0.000000  0.000000  0.000000  0.000000  0.000000  0.000000\n",
      "RW   0.000000  0.000000  0.000000  0.000000  0.666667  0.333333\n",
      "M1   0.071429  0.142857  0.214286  0.000000  0.428571  0.142857\n",
      "M2   0.000000  0.000000  0.000000  1.000000  0.000000  0.000000\n",
      "Liv  0.000000  0.000000  0.000000  0.000000  0.000000  0.000000\n",
      "beginning writing to files\n"
     ]
    }
   ],
   "source": [
    "rtm[43] = build_matrices_restricted(43)"
   ]
  },
  {
   "cell_type": "code",
   "execution_count": 14,
   "metadata": {},
   "outputs": [
    {
     "name": "stdout",
     "output_type": "stream",
     "text": [
      "Co-migration F-H vs FitchCount mse: 0.016869273244598762 \n",
      "Restricted F-H vs FitcCount mse: 0.030970641913851446\n",
      "Co-migration F-H vs FitchCount mae: 0.04114583333333333 \n",
      "Restricted F-H vs FitcCount mae: 0.07766754850088183\n"
     ]
    },
    {
     "data": {
      "image/png": "[encoded data removed]",
      "text/plain": [
       "<Figure size 900x300 with 6 Axes>"
      ]
     },
     "metadata": {},
     "output_type": "display_data"
    }
   ],
   "source": [
    "show_3_plots(tm,rtm,fc,43)"
   ]
  },
  {
   "cell_type": "code",
   "execution_count": 15,
   "metadata": {},
   "outputs": [
    {
     "name": "stdout",
     "output_type": "stream",
     "text": [
      "/home/chunke/cs598MEB/trees/m5k_lg21_tree_hybrid_priors.alleleThresh.processed.txt\n",
      "directory already exists\n",
      "beginning enumeration\n",
      "Number of trees: 3840\n",
      "Min comigrations: 16\n",
      "Number of trees that obey min comigrations 16\n",
      "raw Fitch-Hartigan enumeration transition matrix\n",
      "       LL     RE     RW     M1     M2    Liv\n",
      "LL    0.0    0.0    0.0    0.0    0.0    0.0\n",
      "RE    0.0    0.0    0.0    0.0   56.0   16.0\n",
      "RW   32.0   48.0    0.0   48.0    0.0    8.0\n",
      "M1    0.0  168.0  104.0    0.0  120.0  136.0\n",
      "M2   16.0   40.0   80.0  128.0    0.0   32.0\n",
      "Liv  32.0    0.0    8.0    0.0    0.0    0.0\n",
      "raw FitchCount transition matrix\n",
      "         LL       RE       RW       M1       M2      Liv\n",
      "LL      0.0      0.0   1920.0    768.0      0.0      0.0\n",
      "RE    768.0      0.0   3648.0  12544.0  15808.0   3840.0\n",
      "RW   5760.0  10560.0      0.0  12288.0   1920.0   1920.0\n",
      "M1   1152.0  27264.0  23232.0      0.0  24512.0  32640.0\n",
      "M2   3840.0  13120.0  15360.0  27136.0      0.0   7680.0\n",
      "Liv  7680.0      0.0   1920.0      0.0      0.0      0.0\n",
      "normalized Fitch-Hartigan enumeration transition matrix\n",
      "           LL        RE       RW        M1        M2       Liv\n",
      "LL   0.000000  0.000000  0.00000  0.000000  0.000000  0.000000\n",
      "RE   0.000000  0.000000  0.00000  0.000000  0.777778  0.222222\n",
      "RW   0.235294  0.352941  0.00000  0.352941  0.000000  0.058824\n",
      "M1   0.000000  0.318182  0.19697  0.000000  0.227273  0.257576\n",
      "M2   0.054054  0.135135  0.27027  0.432432  0.000000  0.108108\n",
      "Liv  0.800000  0.000000  0.20000  0.000000  0.000000  0.000000\n",
      "normalized FitchCount transition matrix\n",
      "           LL        RE        RW        M1        M2       Liv\n",
      "LL   0.000000  0.000000  0.714286  0.285714  0.000000  0.000000\n",
      "RE   0.020979  0.000000  0.099650  0.342657  0.431818  0.104895\n",
      "RW   0.177515  0.325444  0.000000  0.378698  0.059172  0.059172\n",
      "M1   0.010588  0.250588  0.213529  0.000000  0.225294  0.300000\n",
      "M2   0.057197  0.195424  0.228789  0.404194  0.000000  0.114395\n",
      "Liv  0.800000  0.000000  0.200000  0.000000  0.000000  0.000000\n",
      "beginning writing to files\n"
     ]
    }
   ],
   "source": [
    "tm[21],fc[21] = build_matrices(21)"
   ]
  },
  {
   "cell_type": "code",
   "execution_count": 16,
   "metadata": {},
   "outputs": [
    {
     "name": "stdout",
     "output_type": "stream",
     "text": [
      "/home/chunke/cs598MEB/trees/m5k_lg21_tree_hybrid_priors.alleleThresh.processed.txt\n",
      "directory already exists\n",
      "beginning enumeration\n",
      "Number of trees: 1920\n",
      "Min comigrations: 19\n",
      "Number of trees that obey min comigrations 16\n",
      "raw restricted Fitch-Hartigan enumeration transition matrix\n",
      "       LL     RE    RW     M1     M2    Liv\n",
      "LL    0.0   16.0  16.0   32.0    0.0    0.0\n",
      "RE    0.0    0.0   0.0    0.0   56.0   16.0\n",
      "RW   16.0   48.0   0.0   48.0    0.0    8.0\n",
      "M1    0.0  152.0  88.0    0.0  120.0  136.0\n",
      "M2   16.0   40.0  80.0  128.0    0.0   32.0\n",
      "Liv  32.0    0.0   8.0    0.0    0.0    0.0\n",
      "normalized restricted Fitch-Hartigan enumeration transition matrix\n",
      "           LL        RE        RW        M1        M2       Liv\n",
      "LL   0.000000  0.250000  0.250000  0.500000  0.000000  0.000000\n",
      "RE   0.000000  0.000000  0.000000  0.000000  0.777778  0.222222\n",
      "RW   0.133333  0.400000  0.000000  0.400000  0.000000  0.066667\n",
      "M1   0.000000  0.306452  0.177419  0.000000  0.241935  0.274194\n",
      "M2   0.054054  0.135135  0.270270  0.432432  0.000000  0.108108\n",
      "Liv  0.800000  0.000000  0.200000  0.000000  0.000000  0.000000\n",
      "beginning writing to files\n"
     ]
    }
   ],
   "source": [
    "rtm[21] = build_matrices_restricted(21)"
   ]
  },
  {
   "cell_type": "code",
   "execution_count": 17,
   "metadata": {},
   "outputs": [
    {
     "name": "stdout",
     "output_type": "stream",
     "text": [
      "Co-migration F-H vs FitchCount mse: 0.024285982237801856 \n",
      "Restricted F-H vs FitcCount mse: 0.016900594430774563\n",
      "Co-migration F-H vs FitchCount mae: 0.065991918258287 \n",
      "Restricted F-H vs FitcCount mae: 0.06517495206765274\n"
     ]
    },
    {
     "data": {
      "image/png": "[encoded data removed]",
      "text/plain": [
       "<Figure size 900x300 with 6 Axes>"
      ]
     },
     "metadata": {},
     "output_type": "display_data"
    }
   ],
   "source": [
    "show_3_plots(tm,rtm,fc,21)"
   ]
  },
  {
   "cell_type": "code",
   "execution_count": 18,
   "metadata": {},
   "outputs": [
    {
     "name": "stdout",
     "output_type": "stream",
     "text": [
      "Clone 86\n",
      "F-H\n",
      "Number of trees: 2\n",
      "Min comigrations: 3\n",
      "Number of trees that obey min comigrations 2\n",
      "restricted F-H\n",
      "Number of trees: 1\n",
      "Min comigrations: 5\n",
      "Number of trees that obey min comigrations 1\n",
      "Sankoff\n",
      "Number of trees: 6\n",
      "Min comigrations: 5\n",
      "Number of trees that obey min comigrations 6\n",
      "Clone 79\n",
      "F-H\n",
      "Number of trees: 6\n",
      "Min comigrations: 3\n",
      "Number of trees that obey min comigrations 6\n",
      "restricted F-H\n",
      "Number of trees: 2\n",
      "Min comigrations: 4\n",
      "Number of trees that obey min comigrations 2\n",
      "Sankoff\n",
      "Number of trees: 30\n",
      "Min comigrations: 4\n",
      "Number of trees that obey min comigrations 30\n",
      "Clone 80\n",
      "F-H\n",
      "Number of trees: 4\n",
      "Min comigrations: 4\n",
      "Number of trees that obey min comigrations 4\n",
      "restricted F-H\n",
      "Number of trees: 2\n",
      "Min comigrations: 5\n",
      "Number of trees that obey min comigrations 2\n",
      "Sankoff\n",
      "Number of trees: 88\n",
      "Min comigrations: 5\n",
      "Number of trees that obey min comigrations 88\n",
      "Clone 99\n",
      "F-H\n",
      "Number of trees: 1\n",
      "Min comigrations: 6\n",
      "Number of trees that obey min comigrations 1\n",
      "restricted F-H\n",
      "Number of trees: 8\n",
      "Min comigrations: 6\n",
      "Number of trees that obey min comigrations 5\n",
      "Sankoff\n",
      "Number of trees: 2700\n",
      "Min comigrations: 5\n",
      "Number of trees that obey min comigrations 256\n",
      "Clone 92\n",
      "F-H\n",
      "Number of trees: 2\n",
      "Min comigrations: 3\n",
      "Number of trees that obey min comigrations 2\n",
      "restricted F-H\n",
      "Number of trees: 12\n",
      "Min comigrations: 5\n",
      "Number of trees that obey min comigrations 2\n",
      "Sankoff\n",
      "Number of trees: 10860\n",
      "Min comigrations: 4\n",
      "Number of trees that obey min comigrations 1296\n",
      "Clone 48\n",
      "F-H\n",
      "Number of trees: 1\n",
      "Min comigrations: 1\n",
      "Number of trees that obey min comigrations 1\n",
      "restricted F-H\n",
      "Number of trees: 2\n",
      "Min comigrations: 2\n",
      "Number of trees that obey min comigrations 1\n",
      "Sankoff\n",
      "Number of trees: 15\n",
      "Min comigrations: 2\n",
      "Number of trees that obey min comigrations 12\n",
      "Clone 70\n",
      "F-H\n",
      "Number of trees: 6\n",
      "Min comigrations: 5\n",
      "Number of trees that obey min comigrations 2\n",
      "restricted F-H\n",
      "Number of trees: 2\n",
      "Min comigrations: 5\n",
      "Number of trees that obey min comigrations 2\n",
      "Sankoff\n",
      "Number of trees: 990\n",
      "Min comigrations: 4\n",
      "Number of trees that obey min comigrations 540\n"
     ]
    }
   ],
   "source": [
    "clones = [86,79,80,99,92,48,70]\n",
    "for c in clones:\n",
    "    try:\n",
    "        print(\"Clone\",c)\n",
    "        print(\"F-H\")\n",
    "        tm[c],fc[c] = build_matrices(c,0)\n",
    "        print(\"restricted F-H\")\n",
    "        rtm[c] = build_matrices_restricted(c,0)\n",
    "        print(\"Sankoff\")\n",
    "        stm[c] = build_matrices_sankoff(c,0) \n",
    "    except:\n",
    "        print(\"could not compute clone\",c)"
   ]
  },
  {
   "cell_type": "code",
   "execution_count": null,
   "metadata": {},
   "outputs": [],
   "source": []
  }
 ],
 "metadata": {
  "kernelspec": {
   "display_name": "Python 3 (ipykernel)",
   "language": "python",
   "name": "python3"
  },
  "language_info": {
   "codemirror_mode": {
    "name": "ipython",
    "version": 3
   },
   "file_extension": ".py",
   "mimetype": "text/x-python",
   "name": "python",
   "nbconvert_exporter": "python",
   "pygments_lexer": "ipython3",
   "version": "3.10.12"
  }
 },
 "nbformat": 4,
 "nbformat_minor": 2
}
